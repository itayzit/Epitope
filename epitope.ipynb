{
 "cells": [
  {
   "cell_type": "code",
   "execution_count": 1,
   "id": "54e60aae",
   "metadata": {
    "pycharm": {
     "name": "#%% code\n"
    }
   },
   "outputs": [],
   "source": [
    "import numpy as np\n",
    "import pandas as pd\n",
    "from quantiprot.metrics import aaindex\n",
    "from quantiprot.utils.io import load_fasta_file\n",
    "from sklearn.model_selection import train_test_split"
   ]
  },
  {
   "cell_type": "code",
   "execution_count": 2,
   "outputs": [],
   "source": [
    "WINDOW_SIZE = 9"
   ],
   "metadata": {
    "collapsed": false,
    "pycharm": {
     "name": "#%% code\n"
    }
   }
  },
  {
   "cell_type": "code",
   "execution_count": 3,
   "outputs": [],
   "source": [
    "def split_to_windows(protein):\n",
    "    # TODO\n",
    "    return None"
   ],
   "metadata": {
    "collapsed": false,
    "pycharm": {
     "name": "#%% code\n"
    }
   }
  },
  {
   "cell_type": "code",
   "execution_count": 4,
   "outputs": [
    {
     "ename": "AttributeError",
     "evalue": "'str' object has no attribute 'data'",
     "output_type": "error",
     "traceback": [
      "\u001B[0;31m---------------------------------------------------------------------------\u001B[0m",
      "\u001B[0;31mAttributeError\u001B[0m                            Traceback (most recent call last)",
      "\u001B[0;32m<ipython-input-4-e0d22b943252>\u001B[0m in \u001B[0;36m<module>\u001B[0;34m\u001B[0m\n\u001B[1;32m     22\u001B[0m         \u001B[0;31m# train_main(feature_matrix, labels)\u001B[0m\u001B[0;34m\u001B[0m\u001B[0;34m\u001B[0m\u001B[0;34m\u001B[0m\u001B[0m\n\u001B[1;32m     23\u001B[0m \u001B[0;34m\u001B[0m\u001B[0m\n\u001B[0;32m---> 24\u001B[0;31m \u001B[0mmain\u001B[0m\u001B[0;34m(\u001B[0m\u001B[0;34m)\u001B[0m\u001B[0;34m\u001B[0m\u001B[0;34m\u001B[0m\u001B[0m\n\u001B[0m\u001B[1;32m     25\u001B[0m \u001B[0;34m\u001B[0m\u001B[0m\n\u001B[1;32m     26\u001B[0m \u001B[0;34m\u001B[0m\u001B[0m\n",
      "\u001B[0;32m<ipython-input-4-e0d22b943252>\u001B[0m in \u001B[0;36mmain\u001B[0;34m()\u001B[0m\n\u001B[1;32m     18\u001B[0m     \u001B[0mtrain\u001B[0m\u001B[0;34m,\u001B[0m \u001B[0mtest\u001B[0m \u001B[0;34m=\u001B[0m \u001B[0mtrain_test_split\u001B[0m\u001B[0;34m(\u001B[0m\u001B[0mpd\u001B[0m\u001B[0;34m.\u001B[0m\u001B[0mDataFrame\u001B[0m\u001B[0;34m(\u001B[0m\u001B[0mdata\u001B[0m\u001B[0;34m=\u001B[0m\u001B[0;34m{\u001B[0m\u001B[0;34m\"name\"\u001B[0m\u001B[0;34m:\u001B[0m \u001B[0mnames\u001B[0m\u001B[0;34m,\u001B[0m \u001B[0;34m\"protein\"\u001B[0m\u001B[0;34m:\u001B[0m \u001B[0mproteins\u001B[0m\u001B[0;34m}\u001B[0m\u001B[0;34m)\u001B[0m\u001B[0;34m)\u001B[0m\u001B[0;34m\u001B[0m\u001B[0;34m\u001B[0m\u001B[0m\n\u001B[1;32m     19\u001B[0m     \u001B[0;32mfor\u001B[0m \u001B[0mprotein\u001B[0m \u001B[0;32min\u001B[0m \u001B[0mtrain\u001B[0m\u001B[0;34m[\u001B[0m\u001B[0;34m'protein'\u001B[0m\u001B[0;34m]\u001B[0m\u001B[0;34m:\u001B[0m\u001B[0;34m\u001B[0m\u001B[0;34m\u001B[0m\u001B[0m\n\u001B[0;32m---> 20\u001B[0;31m         \u001B[0mfeature_matrix\u001B[0m \u001B[0;34m=\u001B[0m \u001B[0mcompute_feature_matrix\u001B[0m\u001B[0;34m(\u001B[0m\u001B[0mprotein\u001B[0m\u001B[0;34m.\u001B[0m\u001B[0mupper\u001B[0m\u001B[0;34m(\u001B[0m\u001B[0;34m)\u001B[0m\u001B[0;34m)\u001B[0m\u001B[0;34m\u001B[0m\u001B[0;34m\u001B[0m\u001B[0m\n\u001B[0m\u001B[1;32m     21\u001B[0m         \u001B[0mlabels\u001B[0m \u001B[0;34m=\u001B[0m \u001B[0;34m[\u001B[0m\u001B[0macid\u001B[0m\u001B[0;34m.\u001B[0m\u001B[0misupper\u001B[0m\u001B[0;34m(\u001B[0m\u001B[0;34m)\u001B[0m \u001B[0;32mfor\u001B[0m \u001B[0macid\u001B[0m \u001B[0;32min\u001B[0m \u001B[0mprotein\u001B[0m\u001B[0;34m]\u001B[0m\u001B[0;34m\u001B[0m\u001B[0;34m\u001B[0m\u001B[0m\n\u001B[1;32m     22\u001B[0m         \u001B[0;31m# train_main(feature_matrix, labels)\u001B[0m\u001B[0;34m\u001B[0m\u001B[0;34m\u001B[0m\u001B[0;34m\u001B[0m\u001B[0m\n",
      "\u001B[0;32m<ipython-input-4-e0d22b943252>\u001B[0m in \u001B[0;36mcompute_feature_matrix\u001B[0;34m(protein)\u001B[0m\n\u001B[1;32m      9\u001B[0m     \u001B[0;31m# TODO: compute rsa\u001B[0m\u001B[0;34m\u001B[0m\u001B[0;34m\u001B[0m\u001B[0;34m\u001B[0m\u001B[0m\n\u001B[1;32m     10\u001B[0m     \u001B[0;31m# TODO: compute ss\u001B[0m\u001B[0;34m\u001B[0m\u001B[0;34m\u001B[0m\u001B[0;34m\u001B[0m\u001B[0m\n\u001B[0;32m---> 11\u001B[0;31m     \u001B[0;32mreturn\u001B[0m \u001B[0mpd\u001B[0m\u001B[0;34m.\u001B[0m\u001B[0mDataFrame\u001B[0m\u001B[0;34m(\u001B[0m\u001B[0mdata\u001B[0m\u001B[0;34m=\u001B[0m\u001B[0;34m{\u001B[0m\u001B[0;34m\"volume\"\u001B[0m\u001B[0;34m:\u001B[0m \u001B[0mvolume_mapping\u001B[0m\u001B[0;34m(\u001B[0m\u001B[0mprotein\u001B[0m\u001B[0;34m)\u001B[0m\u001B[0;34m,\u001B[0m \u001B[0;34m\"hydrophobicity\"\u001B[0m\u001B[0;34m:\u001B[0m \u001B[0mhydrophobicity_mapping\u001B[0m\u001B[0;34m(\u001B[0m\u001B[0mprotein\u001B[0m\u001B[0;34m)\u001B[0m\u001B[0;34m,\u001B[0m \u001B[0;34m\"polarity\"\u001B[0m\u001B[0;34m:\u001B[0m \u001B[0mpolarity_mapping\u001B[0m\u001B[0;34m(\u001B[0m\u001B[0mprotein\u001B[0m\u001B[0;34m)\u001B[0m\u001B[0;34m,\u001B[0m \u001B[0;34m\"type\"\u001B[0m\u001B[0;34m:\u001B[0m \u001B[0mprotein\u001B[0m\u001B[0;34m.\u001B[0m\u001B[0mdata\u001B[0m\u001B[0;34m}\u001B[0m\u001B[0;34m)\u001B[0m\u001B[0;34m\u001B[0m\u001B[0;34m\u001B[0m\u001B[0m\n\u001B[0m\u001B[1;32m     12\u001B[0m \u001B[0;34m\u001B[0m\u001B[0m\n\u001B[1;32m     13\u001B[0m \u001B[0;34m\u001B[0m\u001B[0m\n",
      "\u001B[0;31mAttributeError\u001B[0m: 'str' object has no attribute 'data'"
     ]
    }
   ],
   "source": [
    "def _get_average_from_mapping(mapping):\n",
    "    return sum(list(mapping.mapping.values())) / len(mapping.mapping)\n",
    "\n",
    "\n",
    "def compute_feature_matrix(protein):\n",
    "    volume_mapping = aaindex.get_aa2volume(default=_get_average_from_mapping(aaindex.get_aa2volume())) # use the average as default\n",
    "    hydrophobicity_mapping = aaindex.get_aa2mj(default=_get_average_from_mapping(aaindex.get_aa2mj())) # use the average as default\n",
    "    polarity_mapping = aaindex.get_aaindex_file('GRAR740102', default=_get_average_from_mapping(aaindex.get_aaindex_file('GRAR740102'))) # use the average as default\n",
    "    # TODO: compute rsa\n",
    "    # TODO: compute ss\n",
    "    return pd.DataFrame(data={\"volume\": volume_mapping(protein), \"hydrophobicity\": hydrophobicity_mapping(protein), \"polarity\": polarity_mapping(protein), \"type\": protein.data})"
   ],
   "metadata": {
    "collapsed": false,
    "pycharm": {
     "name": "#%%\n"
    }
   }
  },
  {
   "cell_type": "code",
   "execution_count": null,
   "outputs": [],
   "source": [
    "def main():\n",
    "    fasta_sequences = load_fasta_file(\"iedb_linear_epitopes.fasta\")\n",
    "    names = [fasta_seq.identifier for fasta_seq in fasta_sequences]\n",
    "    proteins = [\"\".join(fasta_seq.data) for fasta_seq in fasta_sequences]\n",
    "    train, test = train_test_split(pd.DataFrame(data={\"name\": names, \"protein\": proteins}))\n",
    "    for protein in train['protein']:\n",
    "        feature_matrix = compute_feature_matrix(protein.upper())\n",
    "        labels = [acid.isupper() for acid in protein]\n",
    "        # train_main(feature_matrix, labels)\n",
    "\n",
    "main()\n",
    "\n",
    "\n",
    "\n",
    "\n",
    "\n",
    "# type - context insensitive\n",
    "# volume\n",
    "# hydrophobicity\n",
    "\n",
    "\n",
    "# rsa, ss"
   ],
   "metadata": {
    "collapsed": false,
    "pycharm": {
     "name": "#%%\n"
    }
   }
  }
 ],
 "metadata": {
  "kernelspec": {
   "name": "pycharm-5b80310",
   "language": "python",
   "display_name": "PyCharm (epitope_project)"
  },
  "language_info": {
   "codemirror_mode": {
    "name": "ipython",
    "version": 3
   },
   "file_extension": ".py",
   "mimetype": "text/x-python",
   "name": "python",
   "nbconvert_exporter": "python",
   "pygments_lexer": "ipython3",
   "version": "3.8.6"
  }
 },
 "nbformat": 4,
 "nbformat_minor": 5
}