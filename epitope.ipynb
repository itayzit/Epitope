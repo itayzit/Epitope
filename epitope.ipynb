{
 "cells": [
  {
   "cell_type": "code",
   "execution_count": null,
   "id": "54e60aae",
   "metadata": {},
   "outputs": [],
   "source": [
    "import numpy as np\n",
    "\n",
    "\n",
    "def open_acid_file():\n",
    "    f = open(\"iedb_linear_epitopes.fasta\")\n",
    "\n",
    "\n",
    "def split_test_train():\n",
    "    proteins = open_acid_file()\n",
    "    train_data = proteins[]\n",
    "\n",
    "\n",
    "\n",
    "def train_main(train_data):\n",
    "\n",
    "    for protein in proteins:\n",
    "        amino_windows = split_to_windows(protein)\n",
    "        for amino_window in amino_windows:\n",
    "            input_matrix = compute_matrix(amino_window)\n",
    "            label = int(amino_window[4].isupper())\n",
    "    \n",
    "def compute_matrix(amino_window: str) -> np.ndarray:\n",
    "    input_matrix = np.zeros((9,6))\n",
    "    for amino_acid, i in enumerate(amino_window):\n",
    "        volume = compute_volume(amino_acid)\n",
    "        hydrophobicity = compute_hydro(amino_acid)\n",
    "        polarity = compute_polarity(amino_acid)\n",
    "        rsa = compute_ss(amino_acid)\n",
    "        ss = compute_s(amino_acid)\n",
    "        amino_type = compute_type(amino_acid)\n",
    "        input_matrix[i] = np.asarray([amino_acid, volume, hydrophobicity, polarity, rsa, ss, amino_type])"
   ]
  }
 ],
 "metadata": {
  "kernelspec": {
   "display_name": "Python 3",
   "language": "python",
   "name": "python3"
  },
  "language_info": {
   "codemirror_mode": {
    "name": "ipython",
    "version": 3
   },
   "file_extension": ".py",
   "mimetype": "text/x-python",
   "name": "python",
   "nbconvert_exporter": "python",
   "pygments_lexer": "ipython3",
   "version": "3.8.6"
  }
 },
 "nbformat": 4,
 "nbformat_minor": 5
}