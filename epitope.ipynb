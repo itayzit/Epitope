{
 "cells": [
  {
   "cell_type": "code",
   "execution_count": 6,
   "id": "54e60aae",
   "metadata": {
    "pycharm": {
     "name": "#%%\n"
    }
   },
   "outputs": [],
   "source": [
    "import numpy as np\n",
    "import pandas as pd\n",
    "from Bio import SeqIO\n",
    "from Bio.SeqUtils.ProtParam import ProteinAnalysis\n",
    "from Bio.SeqUtils.ProtParam import ProtParamData\n",
    "from quantiprot.metrics.aaindex import get_aa2volume\n",
    "from sklearn.model_selection import train_test_split\n",
    "\n"
   ]
  },
  {
   "cell_type": "code",
   "execution_count": 7,
   "outputs": [],
   "source": [
    "WINDOW_SIZE = 9\n",
    "NUM_OF_FEATURES = 6"
   ],
   "metadata": {
    "collapsed": false,
    "pycharm": {
     "name": "#%%\n"
    }
   }
  },
  {
   "cell_type": "code",
   "execution_count": 8,
   "outputs": [],
   "source": [
    "def open_acid_file() -> pd.DataFrame:\n",
    "    fasta_sequences = SeqIO.parse(open(\"iedb_linear_epitopes.fasta\"),'fasta')\n",
    "    names = [fasta_seq.id for fasta_seq in fasta_sequences]\n",
    "    sequences = [str(fasta_seq.seq) for fasta_seq in fasta_sequences]\n",
    "    return pd.DataFrame(data={\"name\": names, \"sequence\": sequences})"
   ],
   "metadata": {
    "collapsed": false,
    "pycharm": {
     "name": "#%%\n"
    }
   }
  },
  {
   "cell_type": "code",
   "execution_count": 9,
   "outputs": [],
   "source": [
    "def split_to_windows(protein):\n",
    "    # TODO\n",
    "    return None"
   ],
   "metadata": {
    "collapsed": false,
    "pycharm": {
     "name": "#%%\n"
    }
   }
  },
  {
   "cell_type": "code",
   "execution_count": 10,
   "outputs": [],
   "source": [
    "def train_main(train_data):\n",
    "    for protein in train_data:\n",
    "        amino_windows = split_to_windows(protein)\n",
    "        for amino_window in amino_windows:\n",
    "            input_matrix = compute_matrix(amino_window)\n",
    "            label = int(amino_window[4].isupper())"
   ],
   "metadata": {
    "collapsed": false,
    "pycharm": {
     "name": "#%%\n"
    }
   }
  },
  {
   "cell_type": "code",
   "execution_count": 11,
   "outputs": [],
   "source": [
    "def compute_matrix(amino_window: str) -> np.ndarray:\n",
    "    input_matrix = np.zeros((WINDOW_SIZE, NUM_OF_FEATURES))\n",
    "    for amino_acid, i in enumerate(amino_window):\n",
    "        analysed_acid = ProteinAnalysis(amino_acid.upper())\n",
    "        volume = get_aa2volume(analysed_acid)\n",
    "        hydrophobicity = analysed_acid.protein_scale(window=WINDOW_SIZE, param_dict=ProtParamData.kd)\n",
    "        polarity = compute_polarity(amino_acid)\n",
    "        rsa = compute_ss(amino_acid)\n",
    "        ss = compute_s(amino_acid)\n",
    "        amino_type = compute_type(amino_acid)\n",
    "        input_matrix[i] = np.asarray([amino_acid, volume, hydrophobicity, polarity, rsa, ss, amino_type])\n",
    "    return input_matrix"
   ],
   "metadata": {
    "collapsed": false,
    "pycharm": {
     "name": "#%%\n"
    }
   }
  },
  {
   "cell_type": "code",
   "execution_count": 12,
   "outputs": [],
   "source": [
    "def main():\n",
    "    proteins = open_acid_file()\n",
    "    train, test = train_test_split(proteins, test_size=0.3)\n",
    "    model = train_main(train)\n",
    "    test_model(model, test)\n",
    "    # TODO: show performance somehow\n"
   ],
   "metadata": {
    "collapsed": false,
    "pycharm": {
     "name": "#%%\n"
    }
   }
  }
 ],
 "metadata": {
  "kernelspec": {
   "name": "pycharm-5b80310",
   "language": "python",
   "display_name": "PyCharm (epitope_project)"
  },
  "language_info": {
   "codemirror_mode": {
    "name": "ipython",
    "version": 3
   },
   "file_extension": ".py",
   "mimetype": "text/x-python",
   "name": "python",
   "nbconvert_exporter": "python",
   "pygments_lexer": "ipython3",
   "version": "3.8.6"
  }
 },
 "nbformat": 4,
 "nbformat_minor": 5
}